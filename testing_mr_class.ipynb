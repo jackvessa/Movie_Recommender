{
 "cells": [
  {
   "cell_type": "code",
   "execution_count": 1,
   "metadata": {},
   "outputs": [],
   "source": [
    "import numpy as np\n",
    "import pandas as pd\n",
    "import recommender_two\n",
    "from uszipcode import SearchEngine"
   ]
  },
  {
   "cell_type": "code",
   "execution_count": 2,
   "metadata": {},
   "outputs": [],
   "source": [
    "users_df = pd.read_csv('/Users/jackvessa/Galvanize_Notes/Week10/recommender-case-study/data/users.dat', \n",
    "                       header=None, sep='::', engine='python')"
   ]
  },
  {
   "cell_type": "code",
   "execution_count": 3,
   "metadata": {},
   "outputs": [],
   "source": [
    "users_df.columns = [\"UserID\",\"Gender\",\"Age\",\"Occupation\",\"Zip-code\"]"
   ]
  },
  {
   "cell_type": "code",
   "execution_count": 4,
   "metadata": {},
   "outputs": [
    {
     "name": "stdout",
     "output_type": "stream",
     "text": [
      "CPU times: user 22.8 s, sys: 677 ms, total: 23.4 s\n",
      "Wall time: 24.4 s\n"
     ]
    }
   ],
   "source": [
    "%%time\n",
    "search = SearchEngine(simple_zipcode=False)\n",
    "users_df['state'] = users_df['Zip-code'].apply(lambda x: search.by_zipcode(x).state)"
   ]
  },
  {
   "cell_type": "code",
   "execution_count": 5,
   "metadata": {},
   "outputs": [],
   "source": [
    "ratings_df = pd.read_csv('/Users/jackvessa/Galvanize_Notes/Week10/recommender-case-study/data/training.csv', \n",
    "                        sep=',', engine='python')"
   ]
  },
  {
   "cell_type": "code",
   "execution_count": 6,
   "metadata": {},
   "outputs": [],
   "source": [
    "mr = recommender_two.MovieRecommender(users_df,ratings_df)"
   ]
  },
  {
   "cell_type": "code",
   "execution_count": 7,
   "metadata": {},
   "outputs": [],
   "source": [
    "request_csv = pd.read_csv('/Users/jackvessa/Galvanize_Notes/Week10/recommender-case-study/data/requests.csv')"
   ]
  },
  {
   "cell_type": "code",
   "execution_count": 8,
   "metadata": {},
   "outputs": [],
   "source": [
    "#request_csv_test = request_csv[:10000]"
   ]
  },
  {
   "cell_type": "code",
   "execution_count": 12,
   "metadata": {},
   "outputs": [],
   "source": [
    "users = request_csv['user']\n",
    "movies = request_csv['movie']"
   ]
  },
  {
   "cell_type": "code",
   "execution_count": null,
   "metadata": {},
   "outputs": [],
   "source": []
  },
  {
   "cell_type": "code",
   "execution_count": 13,
   "metadata": {},
   "outputs": [
    {
     "name": "stdout",
     "output_type": "stream",
     "text": [
      "Current Count: 1000\n",
      "Current Count: 2000\n",
      "Current Count: 3000\n",
      "Current Count: 4000\n",
      "Current Count: 5000\n",
      "Current Count: 6000\n",
      "Current Count: 7000\n",
      "Current Count: 8000\n",
      "Current Count: 9000\n",
      "Current Count: 10000\n",
      "Current Count: 11000\n",
      "Current Count: 12000\n",
      "Current Count: 13000\n",
      "Current Count: 14000\n",
      "Current Count: 15000\n",
      "Current Count: 16000\n",
      "Current Count: 17000\n",
      "Current Count: 18000\n",
      "Current Count: 19000\n",
      "Current Count: 20000\n",
      "Current Count: 21000\n",
      "Current Count: 22000\n",
      "Current Count: 23000\n",
      "Current Count: 24000\n",
      "Current Count: 25000\n",
      "Current Count: 26000\n",
      "Current Count: 27000\n",
      "Current Count: 28000\n",
      "Current Count: 29000\n",
      "Current Count: 30000\n",
      "Current Count: 31000\n",
      "Current Count: 32000\n",
      "Current Count: 33000\n",
      "Current Count: 34000\n",
      "Current Count: 35000\n",
      "Current Count: 36000\n",
      "Current Count: 37000\n",
      "Current Count: 38000\n",
      "Current Count: 39000\n",
      "Current Count: 40000\n",
      "Current Count: 41000\n",
      "Current Count: 42000\n",
      "Current Count: 43000\n",
      "Current Count: 44000\n",
      "Current Count: 45000\n",
      "Current Count: 46000\n",
      "Current Count: 47000\n",
      "Current Count: 48000\n",
      "Current Count: 49000\n",
      "Current Count: 50000\n",
      "Current Count: 51000\n",
      "Current Count: 52000\n",
      "Current Count: 53000\n",
      "Current Count: 54000\n",
      "Current Count: 55000\n",
      "Current Count: 56000\n",
      "Current Count: 57000\n",
      "Current Count: 58000\n",
      "Current Count: 59000\n",
      "Current Count: 60000\n",
      "Current Count: 61000\n",
      "Current Count: 62000\n",
      "Current Count: 63000\n",
      "Current Count: 64000\n",
      "Current Count: 65000\n",
      "Current Count: 66000\n",
      "Current Count: 67000\n",
      "Current Count: 68000\n",
      "Current Count: 69000\n",
      "Current Count: 70000\n",
      "Current Count: 71000\n",
      "Current Count: 72000\n",
      "Current Count: 73000\n",
      "Current Count: 74000\n",
      "Current Count: 75000\n",
      "Current Count: 76000\n",
      "Current Count: 77000\n",
      "Current Count: 78000\n",
      "Current Count: 79000\n",
      "Current Count: 80000\n",
      "Current Count: 81000\n",
      "Current Count: 82000\n",
      "Current Count: 83000\n",
      "Current Count: 84000\n",
      "Current Count: 85000\n",
      "Current Count: 86000\n",
      "Current Count: 87000\n",
      "Current Count: 88000\n",
      "Current Count: 89000\n",
      "Current Count: 90000\n",
      "Current Count: 91000\n",
      "Current Count: 92000\n",
      "Current Count: 93000\n",
      "Current Count: 94000\n",
      "Current Count: 95000\n",
      "Current Count: 96000\n",
      "Current Count: 97000\n",
      "Current Count: 98000\n",
      "Current Count: 99000\n",
      "Current Count: 100000\n",
      "Current Count: 101000\n",
      "Current Count: 102000\n",
      "Current Count: 103000\n",
      "Current Count: 104000\n",
      "Current Count: 105000\n",
      "Current Count: 106000\n",
      "Current Count: 107000\n",
      "Current Count: 108000\n",
      "Current Count: 109000\n",
      "Current Count: 110000\n",
      "Current Count: 111000\n",
      "Current Count: 112000\n",
      "Current Count: 113000\n",
      "Current Count: 114000\n",
      "Current Count: 115000\n",
      "Current Count: 116000\n",
      "Current Count: 117000\n",
      "Current Count: 118000\n",
      "Current Count: 119000\n",
      "Current Count: 120000\n",
      "Current Count: 121000\n",
      "Current Count: 122000\n",
      "Current Count: 123000\n",
      "Current Count: 124000\n",
      "Current Count: 125000\n",
      "Current Count: 126000\n",
      "Current Count: 127000\n",
      "Current Count: 128000\n",
      "Current Count: 129000\n",
      "Current Count: 130000\n",
      "Current Count: 131000\n",
      "Current Count: 132000\n",
      "Current Count: 133000\n",
      "Current Count: 134000\n",
      "Current Count: 135000\n",
      "Current Count: 136000\n",
      "Current Count: 137000\n",
      "Current Count: 138000\n",
      "Current Count: 139000\n",
      "Current Count: 140000\n",
      "Current Count: 141000\n",
      "Current Count: 142000\n",
      "Current Count: 143000\n",
      "Current Count: 144000\n",
      "Current Count: 145000\n",
      "Current Count: 146000\n",
      "Current Count: 147000\n",
      "Current Count: 148000\n",
      "Current Count: 149000\n",
      "Current Count: 150000\n",
      "Current Count: 151000\n",
      "Current Count: 152000\n",
      "Current Count: 153000\n",
      "Current Count: 154000\n",
      "Current Count: 155000\n",
      "Current Count: 156000\n",
      "Current Count: 157000\n",
      "Current Count: 158000\n",
      "Current Count: 159000\n",
      "Current Count: 160000\n",
      "Current Count: 161000\n",
      "Current Count: 162000\n",
      "Current Count: 163000\n",
      "Current Count: 164000\n",
      "Current Count: 165000\n",
      "Current Count: 166000\n",
      "Current Count: 167000\n",
      "Current Count: 168000\n",
      "Current Count: 169000\n",
      "Current Count: 170000\n",
      "Current Count: 171000\n",
      "Current Count: 172000\n",
      "Current Count: 173000\n",
      "Current Count: 174000\n",
      "Current Count: 175000\n",
      "Current Count: 176000\n",
      "Current Count: 177000\n",
      "Current Count: 178000\n",
      "Current Count: 179000\n",
      "Current Count: 180000\n",
      "Current Count: 181000\n",
      "Current Count: 182000\n",
      "Current Count: 183000\n",
      "Current Count: 184000\n",
      "Current Count: 185000\n",
      "Current Count: 186000\n",
      "Current Count: 187000\n",
      "Current Count: 188000\n",
      "Current Count: 189000\n",
      "Current Count: 190000\n",
      "Current Count: 191000\n",
      "Current Count: 192000\n",
      "Current Count: 193000\n",
      "Current Count: 194000\n",
      "Current Count: 195000\n",
      "Current Count: 196000\n",
      "Current Count: 197000\n",
      "Current Count: 198000\n",
      "Current Count: 199000\n",
      "Current Count: 200000\n",
      "CPU times: user 5min 5s, sys: 2.24 s, total: 5min 7s\n",
      "Wall time: 5min 10s\n"
     ]
    }
   ],
   "source": [
    "%%time\n",
    "request_csv_test_list = []\n",
    "\n",
    "count = 0\n",
    "for user, movie in zip(users,movies):\n",
    "    request_csv_test_list.append(mr.get_avg_movie_rating(user,movie))\n",
    "    count += 1\n",
    "    if (count%1000 ==0):\n",
    "        print(\"Current Count:\",count)"
   ]
  },
  {
   "cell_type": "code",
   "execution_count": 14,
   "metadata": {},
   "outputs": [],
   "source": [
    "request_csv['rating'] = request_csv_test_list"
   ]
  },
  {
   "cell_type": "code",
   "execution_count": 15,
   "metadata": {},
   "outputs": [],
   "source": [
    "request_csv.to_csv('predictions',index=False)"
   ]
  },
  {
   "cell_type": "code",
   "execution_count": null,
   "metadata": {},
   "outputs": [],
   "source": []
  }
 ],
 "metadata": {
  "kernelspec": {
   "display_name": "Python 3",
   "language": "python",
   "name": "python3"
  },
  "language_info": {
   "codemirror_mode": {
    "name": "ipython",
    "version": 3
   },
   "file_extension": ".py",
   "mimetype": "text/x-python",
   "name": "python",
   "nbconvert_exporter": "python",
   "pygments_lexer": "ipython3",
   "version": "3.7.4"
  }
 },
 "nbformat": 4,
 "nbformat_minor": 2
}
